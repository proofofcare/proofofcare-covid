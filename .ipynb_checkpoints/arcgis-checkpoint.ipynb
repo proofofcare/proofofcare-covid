{
 "cells": [
  {
   "cell_type": "code",
   "execution_count": 19,
   "metadata": {},
   "outputs": [],
   "source": [
    "from arcgis import GIS\n",
    "import pandas as pd\n",
    "import matplotlib.pyplot as plt "
   ]
  },
  {
   "cell_type": "code",
   "execution_count": 20,
   "metadata": {},
   "outputs": [],
   "source": [
    "\n",
    "gis = GIS()\n",
    "item = gis.content.get(\"f7d1318260b14ac2b334e81e55ee5c9e#data\")\n",
    "flayer = item.layers[0]\n",
    "daily_df = pd.DataFrame.spatial.from_layer(flayer)\n",
    "daily_df.rename(columns = {'Cases':'Total Cases', 'ActiveCases':'Active Cases', 'HA_Name':'Health Authority'}, inplace = True)"
   ]
  },
  {
   "cell_type": "code",
   "execution_count": 15,
   "metadata": {},
   "outputs": [
    {
     "data": {
      "text/html": [
       "<div>\n",
       "<style scoped>\n",
       "    .dataframe tbody tr th:only-of-type {\n",
       "        vertical-align: middle;\n",
       "    }\n",
       "\n",
       "    .dataframe tbody tr th {\n",
       "        vertical-align: top;\n",
       "    }\n",
       "\n",
       "    .dataframe thead th {\n",
       "        text-align: right;\n",
       "    }\n",
       "</style>\n",
       "<table border=\"1\" class=\"dataframe\">\n",
       "  <thead>\n",
       "    <tr style=\"text-align: right;\">\n",
       "      <th></th>\n",
       "      <th>FID</th>\n",
       "      <th>HA_ID</th>\n",
       "      <th>HA_Name</th>\n",
       "      <th>HA_Pop20</th>\n",
       "      <th>Recovered</th>\n",
       "      <th>Deaths</th>\n",
       "      <th>Cases</th>\n",
       "      <th>Date_Updat</th>\n",
       "      <th>Source</th>\n",
       "      <th>URL</th>\n",
       "      <th>...</th>\n",
       "      <th>Shape__Length</th>\n",
       "      <th>Hospitalized</th>\n",
       "      <th>CurrentlyHosp</th>\n",
       "      <th>EverICU</th>\n",
       "      <th>CurrentlyICU</th>\n",
       "      <th>NewCases</th>\n",
       "      <th>LabCases</th>\n",
       "      <th>EpiCases</th>\n",
       "      <th>ActiveCases</th>\n",
       "      <th>SHAPE</th>\n",
       "    </tr>\n",
       "  </thead>\n",
       "  <tbody>\n",
       "    <tr>\n",
       "      <th>0</th>\n",
       "      <td>1</td>\n",
       "      <td>IHA</td>\n",
       "      <td>Interior</td>\n",
       "      <td>739989.0</td>\n",
       "      <td>464</td>\n",
       "      <td>2</td>\n",
       "      <td>489</td>\n",
       "      <td>2020-09-17 23:30:00</td>\n",
       "      <td>BCCDC, B.C. Ministry of Health, PHSA</td>\n",
       "      <td>None</td>\n",
       "      <td>...</td>\n",
       "      <td>2.865217e+06</td>\n",
       "      <td>36</td>\n",
       "      <td>1</td>\n",
       "      <td>0</td>\n",
       "      <td>0</td>\n",
       "      <td>4</td>\n",
       "      <td>462</td>\n",
       "      <td>27</td>\n",
       "      <td>23</td>\n",
       "      <td>{\"rings\": [[[1371176.70965444, 901822.63941896...</td>\n",
       "    </tr>\n",
       "    <tr>\n",
       "      <th>1</th>\n",
       "      <td>2</td>\n",
       "      <td>FHA</td>\n",
       "      <td>Fraser</td>\n",
       "      <td>1720066.0</td>\n",
       "      <td>3106</td>\n",
       "      <td>99</td>\n",
       "      <td>3937</td>\n",
       "      <td>2020-09-17 23:30:00</td>\n",
       "      <td>BCCDC, B.C. Ministry of Health, PHSA</td>\n",
       "      <td>None</td>\n",
       "      <td>...</td>\n",
       "      <td>7.491592e+05</td>\n",
       "      <td>366</td>\n",
       "      <td>23</td>\n",
       "      <td>0</td>\n",
       "      <td>6</td>\n",
       "      <td>102</td>\n",
       "      <td>3896</td>\n",
       "      <td>41</td>\n",
       "      <td>714</td>\n",
       "      <td>{\"rings\": [[[1222866.27016849, 482037.63685860...</td>\n",
       "    </tr>\n",
       "    <tr>\n",
       "      <th>2</th>\n",
       "      <td>3</td>\n",
       "      <td>VCHA</td>\n",
       "      <td>Vancouver Coastal</td>\n",
       "      <td>1131705.0</td>\n",
       "      <td>1685</td>\n",
       "      <td>113</td>\n",
       "      <td>2714</td>\n",
       "      <td>2020-09-17 23:30:00</td>\n",
       "      <td>BCCDC, B.C. Ministry of Health, PHSA</td>\n",
       "      <td>None</td>\n",
       "      <td>...</td>\n",
       "      <td>7.491881e+06</td>\n",
       "      <td>228</td>\n",
       "      <td>25</td>\n",
       "      <td>0</td>\n",
       "      <td>10</td>\n",
       "      <td>54</td>\n",
       "      <td>2685</td>\n",
       "      <td>29</td>\n",
       "      <td>916</td>\n",
       "      <td>{\"rings\": [[[1210453.32205, 478729.069834181],...</td>\n",
       "    </tr>\n",
       "    <tr>\n",
       "      <th>3</th>\n",
       "      <td>4</td>\n",
       "      <td>VIHA</td>\n",
       "      <td>Vancouver Island</td>\n",
       "      <td>776410.0</td>\n",
       "      <td>180</td>\n",
       "      <td>5</td>\n",
       "      <td>196</td>\n",
       "      <td>2020-09-17 23:30:00</td>\n",
       "      <td>BCCDC, B.C. Ministry of Health, PHSA</td>\n",
       "      <td>None</td>\n",
       "      <td>...</td>\n",
       "      <td>8.865158e+06</td>\n",
       "      <td>25</td>\n",
       "      <td>0</td>\n",
       "      <td>0</td>\n",
       "      <td>0</td>\n",
       "      <td>1</td>\n",
       "      <td>192</td>\n",
       "      <td>4</td>\n",
       "      <td>11</td>\n",
       "      <td>{\"rings\": [[[953413.75, 686721], [953183.875, ...</td>\n",
       "    </tr>\n",
       "    <tr>\n",
       "      <th>4</th>\n",
       "      <td>5</td>\n",
       "      <td>NHA</td>\n",
       "      <td>Northern</td>\n",
       "      <td>279885.0</td>\n",
       "      <td>207</td>\n",
       "      <td>1</td>\n",
       "      <td>241</td>\n",
       "      <td>2020-09-17 23:30:00</td>\n",
       "      <td>BCCDC, B.C. Ministry of Health, PHSA</td>\n",
       "      <td>None</td>\n",
       "      <td>...</td>\n",
       "      <td>1.186837e+07</td>\n",
       "      <td>25</td>\n",
       "      <td>7</td>\n",
       "      <td>0</td>\n",
       "      <td>6</td>\n",
       "      <td>4</td>\n",
       "      <td>228</td>\n",
       "      <td>13</td>\n",
       "      <td>33</td>\n",
       "      <td>{\"rings\": [[[762247, 1167918.75], [762530, 116...</td>\n",
       "    </tr>\n",
       "  </tbody>\n",
       "</table>\n",
       "<p>5 rows × 22 columns</p>\n",
       "</div>"
      ],
      "text/plain": [
       "   FID HA_ID            HA_Name   HA_Pop20  Recovered  Deaths  Cases  \\\n",
       "0    1   IHA           Interior   739989.0        464       2    489   \n",
       "1    2   FHA             Fraser  1720066.0       3106      99   3937   \n",
       "2    3  VCHA  Vancouver Coastal  1131705.0       1685     113   2714   \n",
       "3    4  VIHA   Vancouver Island   776410.0        180       5    196   \n",
       "4    5   NHA           Northern   279885.0        207       1    241   \n",
       "\n",
       "           Date_Updat                                Source   URL  ...  \\\n",
       "0 2020-09-17 23:30:00  BCCDC, B.C. Ministry of Health, PHSA  None  ...   \n",
       "1 2020-09-17 23:30:00  BCCDC, B.C. Ministry of Health, PHSA  None  ...   \n",
       "2 2020-09-17 23:30:00  BCCDC, B.C. Ministry of Health, PHSA  None  ...   \n",
       "3 2020-09-17 23:30:00  BCCDC, B.C. Ministry of Health, PHSA  None  ...   \n",
       "4 2020-09-17 23:30:00  BCCDC, B.C. Ministry of Health, PHSA  None  ...   \n",
       "\n",
       "  Shape__Length  Hospitalized  CurrentlyHosp  EverICU  CurrentlyICU  NewCases  \\\n",
       "0  2.865217e+06            36              1        0             0         4   \n",
       "1  7.491592e+05           366             23        0             6       102   \n",
       "2  7.491881e+06           228             25        0            10        54   \n",
       "3  8.865158e+06            25              0        0             0         1   \n",
       "4  1.186837e+07            25              7        0             6         4   \n",
       "\n",
       "   LabCases  EpiCases  ActiveCases  \\\n",
       "0       462        27           23   \n",
       "1      3896        41          714   \n",
       "2      2685        29          916   \n",
       "3       192         4           11   \n",
       "4       228        13           33   \n",
       "\n",
       "                                               SHAPE  \n",
       "0  {\"rings\": [[[1371176.70965444, 901822.63941896...  \n",
       "1  {\"rings\": [[[1222866.27016849, 482037.63685860...  \n",
       "2  {\"rings\": [[[1210453.32205, 478729.069834181],...  \n",
       "3  {\"rings\": [[[953413.75, 686721], [953183.875, ...  \n",
       "4  {\"rings\": [[[762247, 1167918.75], [762530, 116...  \n",
       "\n",
       "[5 rows x 22 columns]"
      ]
     },
     "execution_count": 15,
     "metadata": {},
     "output_type": "execute_result"
    }
   ],
   "source": [
    "daily_df.head()"
   ]
  },
  {
   "cell_type": "code",
   "execution_count": 22,
   "metadata": {},
   "outputs": [
    {
     "data": {
      "text/plain": [
       "5719"
      ]
     },
     "execution_count": 22,
     "metadata": {},
     "output_type": "execute_result"
    }
   ],
   "source": [
    "daily_df.Recovered.sum()"
   ]
  },
  {
   "cell_type": "code",
   "execution_count": 23,
   "metadata": {},
   "outputs": [
    {
     "data": {
      "text/plain": [
       "7663"
      ]
     },
     "execution_count": 23,
     "metadata": {},
     "output_type": "execute_result"
    }
   ],
   "source": [
    "daily_df['Total Cases'].sum()"
   ]
  },
  {
   "cell_type": "code",
   "execution_count": 24,
   "metadata": {},
   "outputs": [
    {
     "data": {
      "text/plain": [
       "220"
      ]
     },
     "execution_count": 24,
     "metadata": {},
     "output_type": "execute_result"
    }
   ],
   "source": [
    "daily_df['Deaths'].sum()"
   ]
  },
  {
   "cell_type": "code",
   "execution_count": 25,
   "metadata": {},
   "outputs": [
    {
     "data": {
      "text/plain": [
       "1705"
      ]
     },
     "execution_count": 25,
     "metadata": {},
     "output_type": "execute_result"
    }
   ],
   "source": [
    "daily_df['Active Cases'].sum()"
   ]
  },
  {
   "cell_type": "code",
   "execution_count": null,
   "metadata": {},
   "outputs": [],
   "source": []
  },
  {
   "cell_type": "code",
   "execution_count": null,
   "metadata": {},
   "outputs": [],
   "source": []
  },
  {
   "cell_type": "code",
   "execution_count": null,
   "metadata": {},
   "outputs": [],
   "source": []
  },
  {
   "cell_type": "code",
   "execution_count": null,
   "metadata": {},
   "outputs": [],
   "source": []
  },
  {
   "cell_type": "code",
   "execution_count": null,
   "metadata": {},
   "outputs": [],
   "source": []
  },
  {
   "cell_type": "code",
   "execution_count": null,
   "metadata": {},
   "outputs": [],
   "source": []
  }
 ],
 "metadata": {
  "kernelspec": {
   "display_name": "Python 3",
   "language": "python",
   "name": "python3"
  },
  "language_info": {
   "codemirror_mode": {
    "name": "ipython",
    "version": 3
   },
   "file_extension": ".py",
   "mimetype": "text/x-python",
   "name": "python",
   "nbconvert_exporter": "python",
   "pygments_lexer": "ipython3",
   "version": "3.8.3"
  }
 },
 "nbformat": 4,
 "nbformat_minor": 4
}
